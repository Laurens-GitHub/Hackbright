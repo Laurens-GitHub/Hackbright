{
 "cells": [
  {
   "cell_type": "code",
   "execution_count": 109,
   "id": "2bd66d43",
   "metadata": {},
   "outputs": [],
   "source": [
    "from selenium import webdriver\n",
    "import os\n",
    "import time \n",
    "import datetime\n",
    "import random\n",
    "from selenium.webdriver.common.keys import Keys\n",
    "from selenium.webdriver.support import expected_conditions as EC\n",
    "from selenium.webdriver.support.ui import Select, WebDriverWait\n",
    "from selenium.webdriver.common.by import By"
   ]
  },
  {
   "cell_type": "code",
   "execution_count": 110,
   "id": "ddf8730e",
   "metadata": {},
   "outputs": [],
   "source": [
    "chrome_options = webdriver.ChromeOptions()\n",
    "driver = webdriver.Chrome(options=chrome_options)\n",
    "wait = WebDriverWait(driver, 2)"
   ]
  },
  {
   "cell_type": "code",
   "execution_count": 111,
   "id": "61fe2e81",
   "metadata": {},
   "outputs": [],
   "source": [
    "url = \"http://localhost:5000/sharkwords-final\"\n",
    "driver.get(url)"
   ]
  },
  {
   "cell_type": "code",
   "execution_count": 122,
   "id": "39af296c",
   "metadata": {},
   "outputs": [],
   "source": [
    "for i in range(0,26):        \n",
    "    randomizer = random.randint(1,26)\n",
    "    random_letter = ('/html/body/div/div/div/section[3]/button[') + (f'{randomizer}]')\n",
    "    driver.find_element(By.XPATH, random_letter).click()\n",
    "    time.sleep(1)"
   ]
  },
  {
   "cell_type": "code",
   "execution_count": 121,
   "id": "34ac58e7",
   "metadata": {},
   "outputs": [],
   "source": [
    "if driver.find_element(By.XPATH, '//a[contains(@id, \"win\")]').is_displayed():\n",
    "     driver.find_element(By.XPATH, '//a[contains(@id, \"win\")]').click()"
   ]
  },
  {
   "cell_type": "code",
   "execution_count": 108,
   "id": "e938a051",
   "metadata": {},
   "outputs": [],
   "source": [
    "driver.quit()"
   ]
  },
  {
   "cell_type": "code",
   "execution_count": null,
   "id": "b10a5a7a",
   "metadata": {},
   "outputs": [],
   "source": []
  }
 ],
 "metadata": {
  "kernelspec": {
   "display_name": "Python 3 (ipykernel)",
   "language": "python",
   "name": "python3"
  },
  "language_info": {
   "codemirror_mode": {
    "name": "ipython",
    "version": 3
   },
   "file_extension": ".py",
   "mimetype": "text/x-python",
   "name": "python",
   "nbconvert_exporter": "python",
   "pygments_lexer": "ipython3",
   "version": "3.9.9"
  }
 },
 "nbformat": 4,
 "nbformat_minor": 5
}
